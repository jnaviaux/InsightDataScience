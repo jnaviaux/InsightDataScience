{
 "cells": [
  {
   "cell_type": "markdown",
   "metadata": {},
   "source": [
    "# Extract Workout Trainer Reviews and Stars from Play Store\n",
    "This code uses Selenium to automatically load reviews from the Google Play store, then imports the HTML into beautiful soup to extract the review text and the star ratings"
   ]
  },
  {
   "cell_type": "code",
   "execution_count": 1,
   "metadata": {},
   "outputs": [],
   "source": [
    "import sys\n",
    "import re\n",
    "import numpy as np\n",
    "import pandas as pd\n",
    "from pprint import pprint\n",
    "import requests\n",
    "from bs4 import BeautifulSoup"
   ]
  },
  {
   "cell_type": "code",
   "execution_count": 3,
   "metadata": {},
   "outputs": [
    {
     "name": "stdout",
     "output_type": "stream",
     "text": [
      "clicks left 69\n",
      "clicks left 68\n",
      "clicks left 67\n",
      "clicks left 66\n",
      "clicks left 65\n",
      "clicks left 64\n",
      "clicks left 63\n",
      "clicks left 62\n",
      "clicks left 61\n",
      "clicks left 60\n",
      "clicks left 59\n",
      "clicks left 58\n",
      "clicks left 57\n",
      "clicks left 56\n",
      "clicks left 55\n",
      "clicks left 54\n",
      "clicks left 53\n",
      "clicks left 52\n",
      "clicks left 51\n",
      "clicks left 50\n",
      "clicks left 49\n",
      "clicks left 48\n",
      "clicks left 47\n",
      "clicks left 46\n",
      "clicks left 45\n",
      "clicks left 44\n",
      "clicks left 43\n",
      "clicks left 42\n",
      "clicks left 41\n",
      "clicks left 40\n",
      "clicks left 39\n",
      "clicks left 38\n",
      "clicks left 37\n",
      "clicks left 36\n",
      "clicks left 35\n",
      "clicks left 34\n",
      "clicks left 33\n",
      "clicks left 32\n",
      "clicks left 31\n",
      "clicks left 30\n",
      "clicks left 29\n",
      "clicks left 28\n",
      "clicks left 27\n",
      "clicks left 26\n",
      "clicks left 25\n",
      "clicks left 24\n",
      "clicks left 23\n",
      "clicks left 22\n",
      "clicks left 21\n",
      "clicks left 20\n",
      "clicks left 19\n",
      "clicks left 18\n",
      "clicks left 17\n",
      "clicks left 16\n",
      "clicks left 15\n",
      "clicks left 14\n",
      "clicks left 13\n",
      "clicks left 12\n",
      "clicks left 11\n",
      "clicks left 10\n",
      "clicks left 9\n",
      "clicks left 8\n",
      "clicks left 7\n",
      "clicks left 6\n",
      "clicks left 5\n",
      "clicks left 4\n",
      "clicks left 3\n",
      "clicks left 2\n",
      "clicks left 1\n",
      "clicks left 0\n"
     ]
    }
   ],
   "source": [
    "#Open up a google play review page\n",
    "#and continuously scroll down to the bottom\n",
    "#automatically click the \"see more\" button at the bottom then continue scrolling down\n",
    "#Once a predefined number of button clicks have been make, copy all of the loaded html data\n",
    "#for use in BeautifulSoup to extract reviews and star ratings\n",
    "import time\n",
    "\n",
    "from selenium import webdriver\n",
    "from selenium.webdriver.common.keys import Keys\n",
    "\n",
    "browser = webdriver.Chrome('/Users/jnaviaux/anaconda3/envs/Ongo_Science_Project/20190616-production/Ongo_wk3_code/chromedriver')\n",
    "\n",
    "\n",
    "browser.get(\"https://play.google.com/store/apps/details?id=com.skimble.workouts&hl=en_US&showAllReviews=true\")\n",
    "time.sleep(1)\n",
    "\n",
    "#Select main page and set up loop to continuously page down\n",
    "main_page = browser.find_element_by_tag_name('body')\n",
    "\n",
    "\n",
    "# Selenium script to scroll to the bottom, wait 3 seconds for the next batch of data to load, then continue scrolling.  It will continue to do this until the page stops loading new data.\n",
    "lenOfPage = browser.execute_script(\"window.scrollTo(0, document.body.scrollHeight);var lenOfPage=document.body.scrollHeight;return lenOfPage;\")\n",
    "total_button_clicks = 70\n",
    "while(total_button_clicks):\n",
    "    lastCount = lenOfPage\n",
    "    time.sleep(3)\n",
    "    lenOfPage = browser.execute_script(\"window.scrollTo(0, document.body.scrollHeight);var lenOfPage=document.body.scrollHeight;return lenOfPage;\")\n",
    "    if lastCount==lenOfPage:\n",
    "        try: #if at the end of the page, try to click on the button to show more reviews\n",
    "            button = browser.find_element_by_xpath('//*[@id=\"fcxH9b\"]/div[4]/c-wiz/div/div[2]/div/div[1]/div/div/div[1]/div[2]/div[2]/div/span/span')\n",
    "            button.click()\n",
    "            total_button_clicks-=1\n",
    "            print('clicks left', total_button_clicks)\n",
    "        except:\n",
    "            print('couldnt find button')\n",
    "            total_button_clicks-=1\n",
    "            print('continuing with clicks left = ',total_button_clicks)\n",
    "            continue\n",
    "            \n",
    "            \n",
    "        finally:\n",
    "            page_source_test = browser.page_source\n"
   ]
  },
  {
   "cell_type": "code",
   "execution_count": 4,
   "metadata": {},
   "outputs": [],
   "source": [
    "from bs4 import BeautifulSoup"
   ]
  },
  {
   "cell_type": "code",
   "execution_count": 5,
   "metadata": {
    "scrolled": true
   },
   "outputs": [],
   "source": [
    "test_soup = BeautifulSoup(page_source_test, 'html5lib')"
   ]
  },
  {
   "cell_type": "markdown",
   "metadata": {},
   "source": [
    "## Pull out reviews\n",
    "Combine short and long reviews into single list"
   ]
  },
  {
   "cell_type": "code",
   "execution_count": 6,
   "metadata": {},
   "outputs": [],
   "source": [
    "review_body = test_soup.find(class_='W4P4ne')\n",
    "all_reviews = review_body.find_all(jsname='bN97Pc')\n",
    "all_reviews_long_cutoff = [review.get_text() for review in all_reviews]\n",
    "\n",
    "long_reviews = review_body.find_all(jsname='fbQN7e')\n",
    "long_reviews_only = [review.get_text() for review in long_reviews]"
   ]
  },
  {
   "cell_type": "code",
   "execution_count": 7,
   "metadata": {},
   "outputs": [],
   "source": [
    "#combine the list of long reviews with the shorter one to make a complete list of all reviews\n",
    "\n",
    "#find indexes of blank reviews in \"long reviews\"\n",
    "idxs = [i for i,x in enumerate(long_reviews_only) if not x]\n",
    "\n",
    "for idx in idxs:\n",
    "    long_reviews_only[idx] = all_reviews_long_cutoff[idx]\n"
   ]
  },
  {
   "cell_type": "markdown",
   "metadata": {},
   "source": [
    "## Pull out star ratings"
   ]
  },
  {
   "cell_type": "code",
   "execution_count": 8,
   "metadata": {},
   "outputs": [],
   "source": [
    "#try to get star rating out of each review\n",
    "star_rating = review_body.find_all(class_='pf5lIe')\n",
    "\n",
    "#pull out the rating given by every review\n",
    "star_list = [int(i.find({'div':'aria-label'}).attrs['aria-label'][6]) for i in star_rating]"
   ]
  },
  {
   "cell_type": "code",
   "execution_count": 9,
   "metadata": {},
   "outputs": [
    {
     "data": {
      "text/plain": [
       "11280"
      ]
     },
     "execution_count": 9,
     "metadata": {},
     "output_type": "execute_result"
    }
   ],
   "source": [
    "len(star_list)"
   ]
  },
  {
   "cell_type": "code",
   "execution_count": 10,
   "metadata": {},
   "outputs": [
    {
     "data": {
      "text/plain": [
       "11280"
      ]
     },
     "execution_count": 10,
     "metadata": {},
     "output_type": "execute_result"
    }
   ],
   "source": [
    "len(long_reviews_only)"
   ]
  },
  {
   "cell_type": "code",
   "execution_count": 11,
   "metadata": {},
   "outputs": [
    {
     "data": {
      "text/plain": [
       "['Wide range of workouts, so handy to browse and save for later, much rather be browsing workouts for the gym than social media, really easy to use, helpful images and descriptions of workouts especially for beginners!',\n",
       " \"every device I've owned since galaxy s3- my s10e now has worked excellent! even on tablets I love these workouts they're very convenient and I've lost a lot of weight and feel great!\",\n",
       " 'Has various good workout. I have yet to get tired of doing these exercises. I recommend this app for everyone to try out.',\n",
       " 'i love it, except it limits you a lot and monthly payment is just exaggerated',\n",
       " 'The free version provides plenty of routines and flexibility in terms of type of workout and time duration',\n",
       " 'Great app. it keeps getting better.',\n",
       " 'Love the app. Keeps me working really hard',\n",
       " \"I really enjoy this app. It was recommended to me by a personal trainer and I've been using it since. For some reason, this is the first workout program I have actually been sticking too because the workouts are short enough to fit in your schedule, some are not the typical workout you would usually get, and they are affective. I haven't had the app for long, but I feel good in my clothes AND internally. I can't wait until I finish my current workout plan!\",\n",
       " 'The experience Ive had with this app is great. I normally do the programs they have which are great. The only problem is that there are no time for transitioning between exercises. So by the time you transition to the next exercise you lose 5 to 15 seconds. That really needs to be fixed. But overall a great app I use it everyday.',\n",
       " 'I love the app. It getting me back into exercising and getting myself healthy again. The only thing I don\\'t like about it is that I cannot unenroll from an exercise program that I clicked on by mistake. I\\'m starting slowly. I didn\\'t see the \"intense\" label on it. I just saw abdominals. I\\'m so focused on certain areas that I don\\'t pay attention to the other information. Other than that, it helps keep me moving and that\\'s what\\'s most important to me. I would not be able to do it on my own. AT ALL!',\n",
       " \"I've been using the free version of this app for years (and have purchased paid programs over the years, too, which I liked). But, recently I started investigating what it would take to be listed as a Certified Personal Trainer on the site. While doing so, it somehow signed me up for a PRO subscription, which I DID NOT approve. I didn't even finish setting up my Trainer profile! So, now I'm out $15 and there is no way to unsubscribe on their website. I contacted Skimble and they told me to go to Samsung Galaxy Apps or contact Samsung, but I didn't make the purchase and definitely not in Samsung Galaxy Apps - I don't even have a Samsung phone!  So, I checked my Google Play subscriptions and this app isn't listed there either. Arg!\",\n",
       " \"I love this app. It has workouts I can do even though I'm just starting out. I don't feel like I'm wasting my time because I can't do the routines. The only thing it doesn't have that I need is the ability to link with my Fitbit tracker. If it had that I would have given it 5 stars.\",\n",
       " \"This is my second time trying to get in shape and out of all the other apps I've tried the first time and this time, nothing let's me workout MY WAY like Skimble! I can use reps or time, create my own workouts or use pre made workouts and fitness program, it syncd to Google Fit so it can track my calories for my nutrition apps, and I can create a team with challenges to keep myself accountable! I definitely purchases the subscription again!!!\",\n",
       " 'keeps me on ooint and feeling great abiut myself',\n",
       " \"No split screen, alt tabbed to change my music and it deleted the first half of my workout, without a way to indicate I had, in fact, been working out for 15 minutes. But it's easy to use.\",\n",
       " 'over all i really like this app. i have not used it to its full potential, & still use the free application as i am on a very tight budget. the hiccups i have with the application are the videos stopping, sometimes restarting, and my activities not recorded.',\n",
       " 'I tried several apps and ended up liking this one best. I liked it enough to get a subscription. It can be a little confusing and a bit over complicated but the features more than make up for that. It kept asking me to sync with Samsung health but I finally found the setting to turn that off. You evidently have to start a workout before you can change that setting which makes no sense to me.',\n",
       " 'great workouts and love the reminders',\n",
       " 'This app seems great, but I cant get it to connect to Google Fit (despite clickong the enable button after completing a workout) and I can seem to grt any support.',\n",
       " 'One of the best fitness apps, and I have tried a few. Even on the free version you can download plenty of workouts to try out, also you can create your own. It has many exercises you can choose from. Also it does not have annoying adds.',\n",
       " 'I am a premium subscriber & I am constantly getting ads popping up. I may need to cancel my subscription because of this. very annoying...',\n",
       " 'where is sync with google fit?',\n",
       " 'Used to be a decent app, liked being able to create workouts. Unfortunately it seems that if you want to create a workout now you are forced to enroll in the pro version (paid) although you can opt out.',\n",
       " 'I love all the programs I lost 40 pounds in 5 months! I truly love this app my number 1 go to for work outs! You can get your own personal Trainor or do it all by yourself!',\n",
       " \"Great variety of workouts. My only complaint is that if I leave the app while doing a workout to answer a message, it'll make me restart the workout.\",\n",
       " 'Mainly very clear workout instructions and like the ability to create my own collections to work through in a week. Useful info about muscle group worked.',\n",
       " 'i change my phone from apple to Android, but I cant switch my account, what can i do ?',\n",
       " \"it's good, but the ads suck. Thankfully I've got a quick trigger finger on that X\",\n",
       " 'great app. keeps you accountable. lots of free options.',\n",
       " 'Impossible to cancel workout pro.',\n",
       " 'Tried many work out apps. This one was my favorite by far.',\n",
       " 'I just spent 20 minuts putting together a work out and was still adding, I left the screen to Google a muscle and my whole workout is now gone!',\n",
       " 'like this app a lot.',\n",
       " 'I really enjoy this app! It has abunch of free workouts which I really like.',\n",
       " 'lost 7lbs 1st week!!!!! active trucker is amazing',\n",
       " 'Great timed workout app. Easy to use, anytime.',\n",
       " 'very good app',\n",
       " 'love this app',\n",
       " 'good categorization of various exercises and flexibility to customize.',\n",
       " 'Great workouts and all the free stuff is enough for what you really need. I really like the social media aspect of it tok',\n",
       " 'very usefull for tracking and creating workouts or just doing other peoples workout.',\n",
       " 'love the videos just wish the upgrade did cost so much.',\n",
       " \"I don't need other app, this app is the best for me.\",\n",
       " 'best app for workout 👌💪',\n",
       " 'excellent to create your own workouts.',\n",
       " 'Pretty good app. Automated voice a bit annoying',\n",
       " 'Very wonderful app, contains everything for fitness',\n",
       " 'great way to track my workouts and keep me active',\n",
       " 'best app ever,It works for so well..',\n",
       " \"I like this app a lot! I had been using the paid Fitbit coach app before and I just didn't find that it offered good programs or excersices. I started using the free workout Trainer and really liked what it had to offer. I now have a Pro subscription and have completed a few of the training programs. there are so many excersices and programs that I have not gotten bored. there are so many types and lengths of workouts that there is always something I can do even if I only have a few minutes.\",\n",
       " 'easy workout app to customize to your needs. the exercise sets are short, yet effective. I set a reminder during the afternoon to do the stress or reduction of anxiety exercise sets. it really helps. Skimble is a great personal trainer without leaving the house.',\n",
       " \"the breathing excercise that I need most does not work. I've asked for assistance but no response. is there a way that you can fix it. it used to work right after I purchased the phone and when it updated it stopped working.\",\n",
       " 'Clunky, data heavy even on LTE, nagging notifications.',\n",
       " \"Everytime I send an email, I get a lame, generic response . Here it is : Thanks for writing us! We appreciate your suggestion and have added it to our Feature Request list for you. If it get implemented, you'll be the first to know! Please don't hesitate to reach out to us if you have any other feedback or suggestions. Thanks again for taking the time to let us know how we can improve our app for you and other Skimblers. Thanks again, and stay nimble! Does anyone work here ??\",\n",
       " \"I've been trying to unsubscribe from payments for about 3 months, I've gone to extreme lengths such as deleting the app, removing my card from google play all together but still I am constantly charged. How do I prevent this?\",\n",
       " 'This has been a fantastic workout app for me.  I prefer working out on my own at home. The videos along with each workout a great for helping me keep good form and keep me on a regular workout routine.There are a lot of good free workouts and the ability to create your own workouts with their exercise videos is a really nice feature.  I did end up getting the yearly subscription to remove the created workout cap and get some of the other payed features.  The one negative is it can be a little overwhelming browsing through all the workouts since there are several variations on most exercises.   For me this is exactly what I want in a workout app.  I use it nearly every day and its really helped me get in shape.',\n",
       " \"crashes to much, you need to fix app. don't pay to have it not work. you have to uninstall then reinstall then works twice then stops\",\n",
       " 'So far the best app. I have tried many but just sticking to this one. Its synchronization with s health is quite helping. kudos for the good work.',\n",
       " 'Absolutely stunning! A lot of different training with in different levels from moderate till intensive. Adecvate price. Thanks for adding synchronization with my Xiaomi smart watch!',\n",
       " 'it will be good if they add rest time between each set with timer, then user can set a certain amount of time for rest between each set to track better.',\n",
       " 'Used to use it a lot and it was great. But switched a phone, would not let me use without logging in (why?? Abuse of log in purpose!), and could get the password reset email from the app. Basically the app is now useless to me and all the information I had is lost. Due to a loggin nonsense.',\n",
       " 'wooow this app makes my day perfect',\n",
       " \"Amazing app! The only thing I found to be lacking is a section for your purchased workouts (if you don't subscribe) but, apart from that, couldn't be any better!\",\n",
       " 'This app decided I should have the \"pro\" version and went ahead and charged me, now there isn\\'t any way to cancel the subscription!',\n",
       " \"perfect, Lots of variety. Great if I can't get to the gym or traveling. Has options for your workout to use equipment or bodyweight, which body part you want to work (one or full body), whether you want to do cardio/strength/ both, fitness level (casual, moderate, intense and length. You have the option to subscribe and get more workouts, but I don't find the need to do that. Really just an all in all great workout app whether you are a beginner or an advanced athlete.\",\n",
       " \"Making unsubscribing this difficult should be illegal. Seriously. Pro version isn't worth the price anyway.\",\n",
       " 'Loving this app. so many options and ways to customize to your liking. Goodbye Nike Trainer even though you do have great videos.',\n",
       " 'Definitely kicked my butt. im so out of shape but i love how it shows you exactly how to do the moves. And it works well with my Samsung Galaxy Watch. Love, love, love this app.',\n",
       " \"Pros: Great app! Very helpful in keeping track of your workouts and provides new workouts to try. Cons: I haven't been able to successfully sync my Samsung Gear S2 watch with the app.\",\n",
       " \"An amazing app. It cost almost $7 per month which I think is pretty decent since the gym cost me $60 . These ppl spend time to develop and perfect this app why shouldn't they be paid for their craft. I love that I can create a workout based on my target body area. Just type in the area you want to workout and u see exercise options. Invest in a few dumbbells and kettlebells and you will not be disappointed. Best $7 u will ever spend. GET IT....\",\n",
       " 'stupid app. wont let me cancel my subscription and eating my money. dont ever subsribe to pro. you will be stuvk with them forever',\n",
       " \"Should have other payment method instead of only through credit card. I want to purchase Pro version but don't have any credit card. Looking forward for new improvement.\",\n",
       " 'A wonderful resource!',\n",
       " 'good workout selections but no equipment workouts. also no way to see how many calories you burned or total activity time/distance. have to keep multiple apps to track it all',\n",
       " 'I so love this app',\n",
       " 'After a short time working alobg side the app, there have been many benifits to using the routines, exersize plans, and social media content to help motivate enthusiasts of all levels.',\n",
       " 'Asks for you tp upgrade when you try to do anything, and pro is required to make anything of your own.',\n",
       " 'best app for thr gym',\n",
       " 'I loved it until my free premium trial was over. For me, it was useless after that.',\n",
       " 'this app is useful',\n",
       " 'really good fitness app',\n",
       " 'I love this app! It has great exercises and if you have Samsung Health it applies your workouts with Samsung Health. Great app!',\n",
       " 'I really like this app because it is easy to use. I have recommended it to many others. I want to try to create my own workout. :->',\n",
       " 'This app is amazing! It is created by fitness and health professionals that create programs for your desired objective! This app really motivates me! Truly recommend!!',\n",
       " 'easy to use',\n",
       " 'Best fitness app . Has tons of exercises and workouts to choose from , highly recommend!',\n",
       " \"Love it although I don't use it anymore when I had gotten lazy I used this to get back in the gym and now I do crossfit 🤪\",\n",
       " \"Can't use it unless you sign up for an account typical nonsense way too many free options other than this\",\n",
       " \"Better your customer service. AND don't hide your Cancel Subscription button.\",\n",
       " 'Very helpful for beginner and PRO. Lots of options and classes.',\n",
       " 'Do not sign up for PRO, it is impossible to cancel your subscription',\n",
       " 'Love this fitness app. The timer on it really helps you stay on track.',\n",
       " 'great app ... helps to teach you what exercises work for different areas of the body',\n",
       " 'Superb app for fitness newbies and pros. Bedt in the category.',\n",
       " 'Great app for all levels and variety of workouts targeted for each body area.',\n",
       " 'so far i have lost 30 pounds combining this app and a calorie counter',\n",
       " 'LUV LUV LUV',\n",
       " 'Great app. Would better if they provide diet plans.',\n",
       " 'Only app in play store that changed me to lean to macho man...love the app',\n",
       " 'Very useful app , good for the workouts and the motivation']"
      ]
     },
     "execution_count": 11,
     "metadata": {},
     "output_type": "execute_result"
    }
   ],
   "source": [
    "long_reviews_only[0:100]"
   ]
  },
  {
   "cell_type": "code",
   "execution_count": 12,
   "metadata": {},
   "outputs": [
    {
     "data": {
      "text/plain": [
       "3846"
      ]
     },
     "execution_count": 12,
     "metadata": {},
     "output_type": "execute_result"
    }
   ],
   "source": [
    "len(long_reviews_only)-star_list.count(5)"
   ]
  },
  {
   "cell_type": "markdown",
   "metadata": {},
   "source": [
    "## Combine reviews and stars into dataframe"
   ]
  },
  {
   "cell_type": "code",
   "execution_count": 13,
   "metadata": {},
   "outputs": [],
   "source": [
    "workout_trainer_dict={'reviews':long_reviews_only,'stars':star_list}"
   ]
  },
  {
   "cell_type": "code",
   "execution_count": 14,
   "metadata": {},
   "outputs": [],
   "source": [
    "import pandas as pd\n",
    "workout_trainer_df = pd.DataFrame(data=workout_trainer_dict)"
   ]
  },
  {
   "cell_type": "code",
   "execution_count": 15,
   "metadata": {},
   "outputs": [
    {
     "data": {
      "text/html": [
       "<div>\n",
       "<style scoped>\n",
       "    .dataframe tbody tr th:only-of-type {\n",
       "        vertical-align: middle;\n",
       "    }\n",
       "\n",
       "    .dataframe tbody tr th {\n",
       "        vertical-align: top;\n",
       "    }\n",
       "\n",
       "    .dataframe thead th {\n",
       "        text-align: right;\n",
       "    }\n",
       "</style>\n",
       "<table border=\"1\" class=\"dataframe\">\n",
       "  <thead>\n",
       "    <tr style=\"text-align: right;\">\n",
       "      <th></th>\n",
       "      <th>reviews</th>\n",
       "      <th>stars</th>\n",
       "    </tr>\n",
       "  </thead>\n",
       "  <tbody>\n",
       "    <tr>\n",
       "      <th>0</th>\n",
       "      <td>Wide range of workouts, so handy to browse and...</td>\n",
       "      <td>5</td>\n",
       "    </tr>\n",
       "    <tr>\n",
       "      <th>1</th>\n",
       "      <td>every device I've owned since galaxy s3- my s1...</td>\n",
       "      <td>5</td>\n",
       "    </tr>\n",
       "    <tr>\n",
       "      <th>2</th>\n",
       "      <td>Has various good workout. I have yet to get ti...</td>\n",
       "      <td>4</td>\n",
       "    </tr>\n",
       "    <tr>\n",
       "      <th>3</th>\n",
       "      <td>i love it, except it limits you a lot and mont...</td>\n",
       "      <td>4</td>\n",
       "    </tr>\n",
       "    <tr>\n",
       "      <th>4</th>\n",
       "      <td>The free version provides plenty of routines a...</td>\n",
       "      <td>5</td>\n",
       "    </tr>\n",
       "  </tbody>\n",
       "</table>\n",
       "</div>"
      ],
      "text/plain": [
       "                                             reviews  stars\n",
       "0  Wide range of workouts, so handy to browse and...      5\n",
       "1  every device I've owned since galaxy s3- my s1...      5\n",
       "2  Has various good workout. I have yet to get ti...      4\n",
       "3  i love it, except it limits you a lot and mont...      4\n",
       "4  The free version provides plenty of routines a...      5"
      ]
     },
     "execution_count": 15,
     "metadata": {},
     "output_type": "execute_result"
    }
   ],
   "source": [
    "workout_trainer_df.head()"
   ]
  },
  {
   "cell_type": "code",
   "execution_count": 16,
   "metadata": {},
   "outputs": [],
   "source": [
    "import pickle"
   ]
  },
  {
   "cell_type": "code",
   "execution_count": 17,
   "metadata": {},
   "outputs": [],
   "source": [
    "#save the imported reviews and star ratings to pickle so they won't be lost"
   ]
  },
  {
   "cell_type": "code",
   "execution_count": 18,
   "metadata": {},
   "outputs": [],
   "source": [
    "workout_trainer_df.to_pickle(\"./workout_trainer_reviews_df.pkl\")"
   ]
  }
 ],
 "metadata": {
  "kernelspec": {
   "display_name": "Python 3",
   "language": "python",
   "name": "python3"
  },
  "language_info": {
   "codemirror_mode": {
    "name": "ipython",
    "version": 3
   },
   "file_extension": ".py",
   "mimetype": "text/x-python",
   "name": "python",
   "nbconvert_exporter": "python",
   "pygments_lexer": "ipython3",
   "version": "3.7.3"
  },
  "toc": {
   "base_numbering": 1,
   "nav_menu": {},
   "number_sections": true,
   "sideBar": true,
   "skip_h1_title": false,
   "title_cell": "Table of Contents",
   "title_sidebar": "Contents",
   "toc_cell": false,
   "toc_position": {},
   "toc_section_display": true,
   "toc_window_display": true
  }
 },
 "nbformat": 4,
 "nbformat_minor": 2
}
